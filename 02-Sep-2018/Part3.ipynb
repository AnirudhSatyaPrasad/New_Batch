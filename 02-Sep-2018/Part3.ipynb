{
 "cells": [
  {
   "cell_type": "markdown",
   "metadata": {},
   "source": [
    "                                     Objective of this Sheet\n",
    "* How to set a meaningful column to be the index?\n",
    "* How to reindex a column from default one for a meaningful outcome.\n",
    "* How to check the data types of the imported file. If the type is wrong then how to transform it to the desired type?\n",
    "* Renaming a column?\n"
   ]
  },
  {
   "cell_type": "code",
   "execution_count": null,
   "metadata": {},
   "outputs": [],
   "source": []
  },
  {
   "cell_type": "code",
   "execution_count": null,
   "metadata": {},
   "outputs": [],
   "source": [
    "#1 - How to set a meaningful column to be the index\n",
    "import pandas as pd\n",
    "excel_data = pd.read_excel('excel_tabs.xlsx')\n",
    "excel_data.head(2)"
   ]
  },
  {
   "cell_type": "code",
   "execution_count": null,
   "metadata": {},
   "outputs": [],
   "source": [
    "# index_col is the statement that will help us in resetting the index from the default to the desired.\n",
    "excel_data = pd.read_excel('excel_tabs.xlsx', index_col = 'STORECODE')\n",
    "excel_data.head(2)"
   ]
  },
  {
   "cell_type": "code",
   "execution_count": null,
   "metadata": {},
   "outputs": [],
   "source": []
  },
  {
   "cell_type": "code",
   "execution_count": null,
   "metadata": {},
   "outputs": [],
   "source": [
    "import pandas as pd\n",
    "import numpy as np"
   ]
  },
  {
   "cell_type": "code",
   "execution_count": null,
   "metadata": {},
   "outputs": [],
   "source": [
    "#2 How to reindex a column from default one for a meaningful outcome.\n",
    "\n",
    "df = pd.read_csv('weather.csv')\n",
    "df"
   ]
  },
  {
   "cell_type": "code",
   "execution_count": null,
   "metadata": {},
   "outputs": [],
   "source": [
    "# making date as index now\n",
    "df.set_index('day', inplace = True)   # please notice inplace here, now this makes it permanently placed here\n",
    "df"
   ]
  },
  {
   "cell_type": "code",
   "execution_count": null,
   "metadata": {},
   "outputs": [],
   "source": []
  },
  {
   "cell_type": "code",
   "execution_count": null,
   "metadata": {},
   "outputs": [],
   "source": [
    "# 3   - How to check the data types of the imported file. If the type is wrong then how to transform it to the desired type?\n",
    "\n",
    "To understand the data before we begin our analysis we should check:\n",
    "\n",
    "1 - data types\n",
    "2 -data distribution\n",
    "\n",
    "There are two reasons to check data types in a dataset:\n",
    "\n",
    "a - Pandas automatically assigns types based on the encoding it detects from the original data table.For a number of reasons\n",
    "this assignment may be incorrect.e.g Sales value may be 'string' type but we are expecting it to be continous.\n",
    "\n",
    "b -It allows us to see which python functions can be applied to a specific column.Some math\n",
    "function can only be applied to numerical data, if they are applied to non-numerical data an error may result."
   ]
  },
  {
   "cell_type": "code",
   "execution_count": null,
   "metadata": {},
   "outputs": [],
   "source": [
    "# how to check the data types\n",
    "excel_data = pd.read_excel('excel_string.xlsx')\n",
    "excel_data.head(2)\n",
    "excel_data.dtypes"
   ]
  },
  {
   "cell_type": "code",
   "execution_count": null,
   "metadata": {},
   "outputs": [],
   "source": [
    "excel_data['FRESHVALUE'] = excel_data['FRESHVALUE'].astype(str)"
   ]
  },
  {
   "cell_type": "code",
   "execution_count": null,
   "metadata": {},
   "outputs": [],
   "source": [
    "# Mathematical  caluculations for FRESHVALUE column will not run.\n",
    "excel_data['FRESHVALUE'] = excel_data['FRESHVALUE'] / 2"
   ]
  },
  {
   "cell_type": "code",
   "execution_count": null,
   "metadata": {},
   "outputs": [],
   "source": [
    "# Standardizing the data is essential. \n",
    "excel_data['FRESHVALUE'] = excel_data['FRESHVALUE'].astype(float)\n",
    "excel_data['FRESHVALUE'] = excel_data['FRESHVALUE'] / 2\n",
    "excel_data.head(2)\n",
    "\n",
    "# how will we be changing the data types for many columns?"
   ]
  },
  {
   "cell_type": "code",
   "execution_count": null,
   "metadata": {},
   "outputs": [],
   "source": []
  },
  {
   "cell_type": "code",
   "execution_count": null,
   "metadata": {},
   "outputs": [],
   "source": [
    "#4 - Renaming a column?\n",
    "excel_data.rename(columns = {'FRESHVALUE':'Salesvalue'}, inplace = True)\n",
    "excel_data\n",
    "\n",
    "# inplace = makes the changes made by us become permanent "
   ]
  },
  {
   "cell_type": "code",
   "execution_count": null,
   "metadata": {},
   "outputs": [],
   "source": [
    "# Making all the columns from uppercase to lowercase\n",
    "excel_data.columns = excel_data.columns.str.lower()\n",
    "excel_data.head(2)"
   ]
  },
  {
   "cell_type": "markdown",
   "metadata": {
    "collapsed": true
   },
   "source": [
    "<div class=\"alert alert-info\">\n",
    "*Questions and Answers.*\n",
    "</div>"
   ]
  },
  {
   "cell_type": "markdown",
   "metadata": {
    "collapsed": true
   },
   "source": [
    "#### Q1 Take any data set from the above example and change the column names for the entire dataset?\n",
    "\n"
   ]
  },
  {
   "cell_type": "code",
   "execution_count": null,
   "metadata": {},
   "outputs": [],
   "source": []
  },
  {
   "cell_type": "markdown",
   "metadata": {
    "collapsed": true
   },
   "source": [
    "#### Q2 How can knowing the data types be handy?"
   ]
  },
  {
   "cell_type": "code",
   "execution_count": null,
   "metadata": {},
   "outputs": [],
   "source": []
  }
 ],
 "metadata": {
  "kernelspec": {
   "display_name": "Python 3",
   "language": "python",
   "name": "python3"
  },
  "language_info": {
   "codemirror_mode": {
    "name": "ipython",
    "version": 3
   },
   "file_extension": ".py",
   "mimetype": "text/x-python",
   "name": "python",
   "nbconvert_exporter": "python",
   "pygments_lexer": "ipython3",
   "version": "3.6.4"
  }
 },
 "nbformat": 4,
 "nbformat_minor": 1
}
