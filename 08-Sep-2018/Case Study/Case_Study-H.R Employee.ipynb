{
 "cells": [
  {
   "cell_type": "code",
   "execution_count": null,
   "metadata": {
    "collapsed": true
   },
   "outputs": [],
   "source": [
    "#                                     Case Study- 1\n",
    "''' I am having a dataset and I do not have any clue of what all information can I\n",
    "    get out of it. Now please help me exploring few questions?'''\n",
    "\n",
    "#                     Questions I am having are as follows:\n",
    "#1 How many employees are there by department in the dataset?\n",
    "#2 Is the attrition number more than the retention?\n",
    "#3 What is the average hourly rate?\n",
    "#4 What is the average number of years spent by an associate at the company?\n",
    "#5 Who are the 5 employees with the most number of years in the company?\n",
    "#6 Does having the same manager for many years makes attrition low?\n",
    "#7 Is upskilling the associates making the company loose them?"
   ]
  },
  {
   "cell_type": "code",
   "execution_count": 2,
   "metadata": {},
   "outputs": [],
   "source": [
    "import pandas as pd\n",
    "data = pd.read_excel('C:\\\\Users\\\\Sharan15\\\\Desktop\\\\21st_Wednesday\\\\HR-Employee-Attrition.xlsx')"
   ]
  }
 ],
 "metadata": {
  "kernelspec": {
   "display_name": "Python 3",
   "language": "python",
   "name": "python3"
  },
  "language_info": {
   "codemirror_mode": {
    "name": "ipython",
    "version": 3
   },
   "file_extension": ".py",
   "mimetype": "text/x-python",
   "name": "python",
   "nbconvert_exporter": "python",
   "pygments_lexer": "ipython3",
   "version": "3.6.4"
  }
 },
 "nbformat": 4,
 "nbformat_minor": 2
}
