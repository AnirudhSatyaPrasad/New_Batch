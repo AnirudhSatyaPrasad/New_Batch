{
 "cells": [
  {
   "cell_type": "code",
   "execution_count": null,
   "metadata": {},
   "outputs": [],
   "source": [
    "                                               # Objective of this session\n",
    "#1 loc and iloc\n",
    "#2 Extending Pandas data using loc?\n",
    "#3 apply, map and applymap\n",
    "#4 Applying function to a Series in Pandas(value_counts).\n",
    "#5 Finding out unique values in the dataset and replacing the column values \n",
    "#6 How can I find and remove duplicate rows? "
   ]
  },
  {
   "cell_type": "code",
   "execution_count": null,
   "metadata": {},
   "outputs": [],
   "source": [
    "import pandas as pd"
   ]
  },
  {
   "cell_type": "code",
   "execution_count": null,
   "metadata": {},
   "outputs": [],
   "source": [
    "#1 loc and iloc \n",
    "data = pd.read_csv('store_data.csv')\n",
    "data"
   ]
  },
  {
   "cell_type": "code",
   "execution_count": null,
   "metadata": {},
   "outputs": [],
   "source": [
    "# Please Remember:\n",
    "# data.loc[,]    # - before comma-what rows I want,  post comma-what columns I want"
   ]
  },
  {
   "cell_type": "code",
   "execution_count": null,
   "metadata": {},
   "outputs": [],
   "source": [
    "data.loc[0,:]     # if i want first row and all the columns. for that I can use colons"
   ]
  },
  {
   "cell_type": "code",
   "execution_count": null,
   "metadata": {},
   "outputs": [],
   "source": [
    "#data.loc[[0,1,2], :]          #if I want 3 rows and all the columns\n",
    "\n",
    "# more efficeint way of doing the above\n",
    "\n",
    "data.loc[0:2, :]       #loc is inclusive on both sides"
   ]
  },
  {
   "cell_type": "code",
   "execution_count": null,
   "metadata": {},
   "outputs": [],
   "source": [
    "# column selections\n",
    "data.loc[:, ['ITEM', 'QUANTITY']]"
   ]
  },
  {
   "cell_type": "code",
   "execution_count": null,
   "metadata": {},
   "outputs": [],
   "source": [
    "#  selecting columns through the list\n",
    "data.loc[:, 'CUSTOMER':'UNIT PRICE']   \n"
   ]
  },
  {
   "cell_type": "code",
   "execution_count": null,
   "metadata": {},
   "outputs": [],
   "source": [
    "#  together selecting as a row selection and column selection\n",
    "data.loc[0:3, 'CUSTOMER':'UNIT PRICE']"
   ]
  },
  {
   "cell_type": "code",
   "execution_count": null,
   "metadata": {},
   "outputs": [],
   "source": [
    "data.loc[data.CUSTOMER == 'Aanchal', :]\n",
    "\n",
    "# stores[stores['CUSTOMER'] == 'Charlie']"
   ]
  },
  {
   "cell_type": "code",
   "execution_count": null,
   "metadata": {},
   "outputs": [],
   "source": [
    "# iloc - does the same thing as loc. with the integer position\n",
    "data.iloc[:, [0,3]]                  #I want all the rows and columns that are in the position of 0 ad 3"
   ]
  },
  {
   "cell_type": "code",
   "execution_count": null,
   "metadata": {},
   "outputs": [],
   "source": [
    "# also I can use the range\n",
    "data.iloc[:, 0:3]      #iloc is exclusive of the secong no. and inclusive of the first number"
   ]
  },
  {
   "cell_type": "code",
   "execution_count": null,
   "metadata": {},
   "outputs": [],
   "source": [
    "data.iloc[0:3, :]      #I want rows from 0 to 2 and all the columns"
   ]
  },
  {
   "cell_type": "code",
   "execution_count": null,
   "metadata": {},
   "outputs": [],
   "source": [
    "data[['CUSTOMER','QUANTITY']]   \n",
    "#  now we will see why loc is a better methodology\n",
    " # normal way here inner bracket shows the lists of things. so two brackets can be confusing"
   ]
  },
  {
   "cell_type": "code",
   "execution_count": null,
   "metadata": {},
   "outputs": [],
   "source": [
    "# using .loc for this one.\n",
    "data.loc[:, ['CUSTOMER','QUANTITY'] ]    #loc is better, it shows wich columns and rows in much easier way"
   ]
  },
  {
   "cell_type": "code",
   "execution_count": null,
   "metadata": {},
   "outputs": [],
   "source": []
  },
  {
   "cell_type": "code",
   "execution_count": null,
   "metadata": {},
   "outputs": [],
   "source": [
    "#2 - Some doubts to be cleared in case of loc ->\n",
    "# Two cases of pandas loc. indexer (Other day I defined loc with clear rows & columns.)Here is the extended version\n",
    "\n",
    "#a Selecting rows by label/index\n",
    "#b - Selecting rows with a boolean / conditional lookup\n",
    "\n",
    "\n",
    "import pandas as pd\n",
    "data = pd.read_excel('iloc_data.xlsx')\n",
    "\n",
    "data.set_index(\"last_name\", inplace=True) #later set this index\n",
    "data.head(2)"
   ]
  },
  {
   "cell_type": "code",
   "execution_count": null,
   "metadata": {},
   "outputs": [],
   "source": [
    "# #a. Selecting rows by label/index  # See above we have changed the index, Default index was first_name & now it is last_name\n",
    "#     so now just by writing the last name I can get the info. This again is highlighting the importance of index.\n",
    "data.loc['Tomkiewicz']"
   ]
  },
  {
   "cell_type": "code",
   "execution_count": null,
   "metadata": {},
   "outputs": [],
   "source": [
    "data.loc[['Andrade','Mcwalters']]  # As two elements from index have been chosen. Now it is upto us to update the \n",
    "# column or not else by default all the columns will come."
   ]
  },
  {
   "cell_type": "code",
   "execution_count": null,
   "metadata": {},
   "outputs": [],
   "source": [
    "#b. This is how the selection works.\n",
    "data.loc[['Andrade','Mcwalters'],['city','first_name','email']]"
   ]
  },
  {
   "cell_type": "code",
   "execution_count": null,
   "metadata": {},
   "outputs": [],
   "source": [
    "# As we have seen previously that slicing also works here. Also if we want to select any other column instead of index as\n",
    "# then we can do it in this fashion \n",
    "\n",
    "data.loc[data['first_name'] == 'Antonio', 'city':'email']"
   ]
  },
  {
   "cell_type": "code",
   "execution_count": null,
   "metadata": {},
   "outputs": [],
   "source": []
  },
  {
   "cell_type": "code",
   "execution_count": null,
   "metadata": {},
   "outputs": [],
   "source": [
    "# 3.  map, apply and applymap : \n",
    "import pandas as pd\n",
    "train = pd.read_csv('titanic.csv')\n",
    "train.head(2)"
   ]
  },
  {
   "cell_type": "code",
   "execution_count": null,
   "metadata": {},
   "outputs": [],
   "source": [
    "# Reason for map -  Map allows us to map existing values of a series to a different set of values.\n",
    "#                    It iterates over each element of a series.\n",
    "\n",
    "train['Sex_num'] = train.Sex.map({'female':0, 'male':1})\n"
   ]
  },
  {
   "cell_type": "code",
   "execution_count": null,
   "metadata": {},
   "outputs": [],
   "source": [
    "# checking for both the columns\n",
    "train.loc[0:4, ['Sex', 'Sex_num']]"
   ]
  },
  {
   "cell_type": "code",
   "execution_count": null,
   "metadata": {},
   "outputs": [],
   "source": [
    "#apply -     Apply is both a series method and also a dataframe method. Apply applies a function to each element in a series\n",
    "#            As the name suggests, applies a function along any axis of the DataFrame.\n",
    "\n",
    "\n",
    "train['Name_length'] = train['Name'].apply(len)  # so we can check the name length from here in \n",
    "\n",
    "# to check how our apply function has behaved, we can have a look at both the variables.\n",
    "train.loc[0:4, ['Name' , 'Name_length']]\n",
    "\n"
   ]
  },
  {
   "cell_type": "code",
   "execution_count": null,
   "metadata": {},
   "outputs": [],
   "source": [
    "# apply :                            Now we will cover the apply as a dataframe method.\n",
    "drinks = pd.read_csv('alchol.csv')\n",
    "drinks.head(2)"
   ]
  },
  {
   "cell_type": "code",
   "execution_count": null,
   "metadata": {},
   "outputs": [],
   "source": [
    "# applying the 'apply' function on the entire dataframe. Here axis 0 means the column addition.\n",
    "drinks.loc[:, 'beer_servings' : 'wine_servings'].apply(max, axis = 0)\n",
    "\n",
    "# Please check out if we want to add row wise. Yes, that would be axis = 1"
   ]
  },
  {
   "cell_type": "code",
   "execution_count": null,
   "metadata": {},
   "outputs": [],
   "source": [
    "#  applymap : Applies the function to every element of the dataframe. It does not go to any direction, it simply applies to\n",
    "#  to every element.\n",
    "\n",
    "drinks.loc[:, 'beer_servings': 'wine_servings'].applymap(float)\n",
    "\n",
    "# Here we have just transformed all the elements to the floats."
   ]
  },
  {
   "cell_type": "code",
   "execution_count": null,
   "metadata": {},
   "outputs": [],
   "source": []
  },
  {
   "cell_type": "code",
   "execution_count": null,
   "metadata": {},
   "outputs": [],
   "source": [
    "# 4. Applying function to a Series in Pandas \n",
    "state_data = pd.DataFrame([('A', 'Himachal Pradesh','Shimla'),\n",
    "                   ('B', 'Gujarat', 'Gandhinagar'),\n",
    "                   ('C', 'Karnataka','Bangalore'  ),\n",
    "                   ('D', 'Gujarat', 'Gandhinagar'),\n",
    "                   ('E', 'Karnataka','Bangalore' ),\n",
    "                   ('F', 'Gujarat', 'Gandhinagar'),\n",
    "                   ('G', 'Sikkim', 'Gangtok'),\n",
    "                   ('h','NAN','Chandigarh'),\n",
    "                   ('i', 'Himachal Pradesh','Shimla')\n",
    "                   ],\n",
    "                  columns=['groupid', 'State', 'Capital'])"
   ]
  },
  {
   "cell_type": "code",
   "execution_count": null,
   "metadata": {},
   "outputs": [],
   "source": [
    "state_data"
   ]
  },
  {
   "cell_type": "code",
   "execution_count": null,
   "metadata": {},
   "outputs": [],
   "source": [
    "print(state_data['State'].value_counts())"
   ]
  },
  {
   "cell_type": "code",
   "execution_count": null,
   "metadata": {},
   "outputs": [],
   "source": []
  },
  {
   "cell_type": "code",
   "execution_count": null,
   "metadata": {},
   "outputs": [],
   "source": [
    "# 5 Finding out unique values in the dataset and replacing the column values"
   ]
  },
  {
   "cell_type": "code",
   "execution_count": null,
   "metadata": {},
   "outputs": [],
   "source": [
    "shaktiman = pd.read_csv('store_data.csv')\n",
    "shaktiman.head(3)"
   ]
  },
  {
   "cell_type": "code",
   "execution_count": null,
   "metadata": {},
   "outputs": [],
   "source": [
    "# Checking for unique items in the column\n",
    "shaktiman['ITEM'].unique()"
   ]
  },
  {
   "cell_type": "code",
   "execution_count": null,
   "metadata": {},
   "outputs": [],
   "source": [
    "# replacing column values with the desirable\n",
    "shaktiman['ITEM'].replace(['Banana', 'Orange'], ['Grapes','Chocolates'])"
   ]
  },
  {
   "cell_type": "code",
   "execution_count": null,
   "metadata": {},
   "outputs": [],
   "source": [
    "# Rather then replacing all the single type values in a column, we want to replace few ocurances on the basis of some condition.\n",
    "mask = shaktiman['QUANTITY'] > 1\n",
    "column_name = 'ITEM'                             # defines the column where we want to replace the values\n",
    "shaktiman.loc[mask, column_name] = 'Ragi malt'       #the selected rows where mask holds in the column where name is column_name\n",
    "\n",
    "# mask helps us to select the rows in which the conditionality of a column is mentioned. \n",
    "shaktiman"
   ]
  },
  {
   "cell_type": "code",
   "execution_count": null,
   "metadata": {},
   "outputs": [],
   "source": []
  },
  {
   "cell_type": "code",
   "execution_count": null,
   "metadata": {},
   "outputs": [],
   "source": [
    "# 6. #3 How can I find and remove duplicate rows? \n",
    "mogli = pd.read_csv('mogli.csv')\n",
    "mogli.shape"
   ]
  },
  {
   "cell_type": "code",
   "execution_count": null,
   "metadata": {},
   "outputs": [],
   "source": [
    "#it will show  the duplicate values in the column\n",
    "mogli['UNIT PRICE'].duplicated()"
   ]
  },
  {
   "cell_type": "code",
   "execution_count": null,
   "metadata": {},
   "outputs": [],
   "source": [
    "# here true gets converted to ones and false gets converted to zero and then it adds them.\n",
    "mogli['UNIT PRICE'].duplicated().sum()"
   ]
  },
  {
   "cell_type": "code",
   "execution_count": null,
   "metadata": {},
   "outputs": [],
   "source": [
    "# to check how many rows are duplicated \n",
    "mogli.duplicated().sum()"
   ]
  },
  {
   "cell_type": "code",
   "execution_count": null,
   "metadata": {},
   "outputs": [],
   "source": [
    "# for checking the rows which are having the duplicate rows, here the first occurance is shown\n",
    "mogli.loc[mogli.duplicated(), :]"
   ]
  },
  {
   "cell_type": "code",
   "execution_count": null,
   "metadata": {},
   "outputs": [],
   "source": [
    "# for droping the duplicates, this deletes the second occurance\n",
    "mogli.drop_duplicates().shape"
   ]
  },
  {
   "cell_type": "code",
   "execution_count": null,
   "metadata": {},
   "outputs": [],
   "source": [
    "# deleting rows on condition of two columns"
   ]
  },
  {
   "cell_type": "code",
   "execution_count": null,
   "metadata": {},
   "outputs": [],
   "source": []
  },
  {
   "cell_type": "code",
   "execution_count": null,
   "metadata": {},
   "outputs": [],
   "source": [
    "df =pd.read_excel('deleting.xlsx')\n",
    "df"
   ]
  },
  {
   "cell_type": "code",
   "execution_count": null,
   "metadata": {},
   "outputs": [],
   "source": [
    "# simply create a new dataframe with the different values\n",
    "df[df['temperature'] == df['humidity']]\n",
    "\n",
    "# using the loc method\n",
    "#(df.loc[(df.temperature == df.humidity) , :])"
   ]
  },
  {
   "cell_type": "code",
   "execution_count": null,
   "metadata": {},
   "outputs": [],
   "source": [
    "# case 1 to drop the rows now on the basis of columns:\n",
    "df.drop(df.index[[2,5,8]], inplace = True)\n",
    "df"
   ]
  },
  {
   "cell_type": "code",
   "execution_count": null,
   "metadata": {},
   "outputs": [],
   "source": [
    "# we can just give a new varibale name:\n",
    "newdf = df[df['temperature'] != df['humidity']]\n",
    "newdf"
   ]
  }
 ],
 "metadata": {
  "kernelspec": {
   "display_name": "Python 3",
   "language": "python",
   "name": "python3"
  },
  "language_info": {
   "codemirror_mode": {
    "name": "ipython",
    "version": 3
   },
   "file_extension": ".py",
   "mimetype": "text/x-python",
   "name": "python",
   "nbconvert_exporter": "python",
   "pygments_lexer": "ipython3",
   "version": "3.6.4"
  }
 },
 "nbformat": 4,
 "nbformat_minor": 1
}
