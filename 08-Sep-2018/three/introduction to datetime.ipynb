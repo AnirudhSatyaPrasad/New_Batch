{
 "cells": [
  {
   "cell_type": "markdown",
   "metadata": {},
   "source": [
    "###                                      Objective of the session\n",
    "*  datetime objects\n"
   ]
  },
  {
   "cell_type": "code",
   "execution_count": null,
   "metadata": {},
   "outputs": [],
   "source": [
    "# Use pythons datetime:\n",
    "from datetime import datetime\n",
    "now = datetime.now()                 # checking for the current datetime\n",
    "print(now)                 "
   ]
  },
  {
   "cell_type": "code",
   "execution_count": null,
   "metadata": {},
   "outputs": [],
   "source": [
    "# now I am trying to put my own datetime\n",
    "t1 = datetime.now()\n",
    "t2 = datetime(1970, 1, 1)      #a random date I am giving\n",
    "diff = t1 - t2\n",
    "print(diff)"
   ]
  },
  {
   "cell_type": "code",
   "execution_count": null,
   "metadata": {},
   "outputs": [],
   "source": [
    "# okey now let us check for the above datatypes.\n",
    "print(type(diff))"
   ]
  },
  {
   "cell_type": "code",
   "execution_count": null,
   "metadata": {},
   "outputs": [],
   "source": []
  },
  {
   "cell_type": "code",
   "execution_count": null,
   "metadata": {},
   "outputs": [],
   "source": [
    "#Convert to datetime : for this we will load our dataset, another way of loading the dataset is given below.\n",
    "import pandas as pd\n",
    "data = ('country_timeseries.csv')\n",
    "ebola = pd.read_csv(data)"
   ]
  },
  {
   "cell_type": "code",
   "execution_count": null,
   "metadata": {},
   "outputs": [],
   "source": [
    "ebola.head(3)  #here the first column is the dates. \n",
    "#but there is a question. Is this the really the date??"
   ]
  },
  {
   "cell_type": "code",
   "execution_count": null,
   "metadata": {},
   "outputs": [],
   "source": [
    "ebola['Day'].dtypes  #we can notice that the date type is just in the form of integers."
   ]
  },
  {
   "cell_type": "code",
   "execution_count": null,
   "metadata": {},
   "outputs": [],
   "source": [
    "# now we are going to take this old column and create a new column that will have actual daytime object.\n",
    "ebola['date_dt'] = pd.to_datetime(ebola['Date'])\n",
    "ebola.loc[0:3, ['Date','date_dt']]"
   ]
  },
  {
   "cell_type": "code",
   "execution_count": null,
   "metadata": {},
   "outputs": [],
   "source": [
    "# Load data with dates\n",
    "# If our dataset is having the dates column then we must use the 'parse_dates' parameter at the time of importing\n",
    "\n",
    "ebola = pd.read_csv(data, parse_dates = [0])\n",
    "\n",
    "# above I am parsing the dates. 0 is the column number as we know that Date is in first position."
   ]
  },
  {
   "cell_type": "code",
   "execution_count": null,
   "metadata": {},
   "outputs": [],
   "source": [
    "# checking wheter the above thing happend or not.\n",
    "ebola.dtypes\n",
    "#yes we can notice that for Date this time it is coming as datetime64."
   ]
  },
  {
   "cell_type": "code",
   "execution_count": null,
   "metadata": {},
   "outputs": [],
   "source": []
  },
  {
   "cell_type": "code",
   "execution_count": null,
   "metadata": {},
   "outputs": [],
   "source": [
    "# Extracting various elements out of the date.\n",
    "#What do I mean by that. e.g.\n",
    "d = pd.to_datetime('2016-02-29')\n",
    "print(d)                            #here we have created the date for the leap year."
   ]
  },
  {
   "cell_type": "code",
   "execution_count": null,
   "metadata": {},
   "outputs": [],
   "source": [
    "print(type(d))          #by timestamp we mean "
   ]
  },
  {
   "cell_type": "code",
   "execution_count": null,
   "metadata": {},
   "outputs": [],
   "source": [
    "#now out of this I can fetch the attributes:In first case the year attribute\n",
    "d.year"
   ]
  },
  {
   "cell_type": "code",
   "execution_count": null,
   "metadata": {},
   "outputs": [],
   "source": [
    "# for getting the month\n",
    "d.month"
   ]
  },
  {
   "cell_type": "code",
   "execution_count": null,
   "metadata": {},
   "outputs": [],
   "source": [
    "# any guess for the day?\n",
    "d.day"
   ]
  },
  {
   "cell_type": "code",
   "execution_count": null,
   "metadata": {},
   "outputs": [],
   "source": [
    "# Now let us do this on the dataframe\n",
    "ebola.dtypes  #basically we want to get those(day,month and year) attributes in our datasets\n",
    "\n",
    "ebola['date_dt'] = pd.to_datetime(ebola['Date'])\n",
    "\n",
    "ebola['year'] = ebola['date_dt'].dt.year  #dt.year is letting us fetch us the date out of our date_dt.\n",
    "ebola[['Date','date_dt','year']].head(3)"
   ]
  },
  {
   "cell_type": "code",
   "execution_count": null,
   "metadata": {},
   "outputs": [],
   "source": [
    "# Now in the same fashion I will access the month and day, let us ttry it together.\n",
    "# Please tell me what I have used as the container now on the right hand side.\n",
    "ebola['month'], ebola['day'] = (ebola['date_dt'].dt.month, ebola['date_dt'].dt.day)\n",
    "ebola[['Date', 'date_dt', 'year', 'month', 'day']].head(2)"
   ]
  },
  {
   "cell_type": "code",
   "execution_count": null,
   "metadata": {},
   "outputs": [],
   "source": [
    "# Now please tell in what you are expecting year, month and date to be?\n",
    "ebola.dtypes   "
   ]
  },
  {
   "cell_type": "code",
   "execution_count": null,
   "metadata": {},
   "outputs": [],
   "source": []
  },
  {
   "cell_type": "code",
   "execution_count": null,
   "metadata": {},
   "outputs": [],
   "source": [
    "# Implement date calculations and timedeltas\n",
    "ebola.iloc[-5: , 0:5]"
   ]
  },
  {
   "cell_type": "code",
   "execution_count": null,
   "metadata": {},
   "outputs": [],
   "source": [
    "# If I will apply minimum function on my timestamp then lets see:\n",
    "ebola['date_dt'].min()   #this is oldest date in our dataset. How this knowledge can be handy?"
   ]
  },
  {
   "cell_type": "code",
   "execution_count": null,
   "metadata": {},
   "outputs": [],
   "source": [
    "# let's use this knowledge in analysing the dataset.\n",
    "ebola['outbreak_d'] = ebola['date_dt'] - ebola['date_dt'].min() #this will tell us how many days are over since \n",
    "                                                                # the brekdown of ebola.\n",
    "\n",
    "ebola[['Date', 'Day', 'outbreak_d']].tail(2)\n",
    "\n",
    "#Question - Now please check the object for outbreak_d? First guess and then have the look."
   ]
  }
 ],
 "metadata": {
  "kernelspec": {
   "display_name": "Python 3",
   "language": "python",
   "name": "python3"
  },
  "language_info": {
   "codemirror_mode": {
    "name": "ipython",
    "version": 3
   },
   "file_extension": ".py",
   "mimetype": "text/x-python",
   "name": "python",
   "nbconvert_exporter": "python",
   "pygments_lexer": "ipython3",
   "version": "3.6.4"
  }
 },
 "nbformat": 4,
 "nbformat_minor": 2
}
