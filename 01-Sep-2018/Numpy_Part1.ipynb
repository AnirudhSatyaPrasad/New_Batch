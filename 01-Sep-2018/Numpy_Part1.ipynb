{
 "cells": [
  {
   "cell_type": "markdown",
   "metadata": {},
   "source": [
    "#                                     Numpy\n",
    "* Why Numpy?\n",
    "* Data structures of Numpy\n",
    "* Demonstration of why numpy uses less memory, is fast and also convenient.\n",
    " "
   ]
  },
  {
   "cell_type": "code",
   "execution_count": null,
   "metadata": {},
   "outputs": [],
   "source": [
    "import numpy as np\n",
    "its_an_array = np.array([1,2,3])"
   ]
  },
  {
   "cell_type": "code",
   "execution_count": null,
   "metadata": {},
   "outputs": [],
   "source": [
    "its_an_array"
   ]
  },
  {
   "cell_type": "markdown",
   "metadata": {},
   "source": [
    "Post runing the above cell, we need to see how exactly it looks?"
   ]
  },
  {
   "cell_type": "code",
   "execution_count": null,
   "metadata": {},
   "outputs": [],
   "source": []
  },
  {
   "cell_type": "markdown",
   "metadata": {},
   "source": [
    "* - If it is looking like a list, then why should we be reading about array?\n",
    "\n",
    "Mjorly because of the below reasons:\n",
    "- less memory\n",
    "- convenient\n",
    "- fast"
   ]
  },
  {
   "cell_type": "code",
   "execution_count": null,
   "metadata": {},
   "outputs": [],
   "source": [
    "# Importing the required libraries.\n",
    "import sys   \n",
    "import numpy as np\n"
   ]
  },
  {
   "cell_type": "code",
   "execution_count": null,
   "metadata": {},
   "outputs": [],
   "source": [
    "#                                     Demonstrating the less memory case :-\n",
    "# creating a python list                         \n",
    "lists = range(5000)\n",
    "print(sys.getsizeof(5) * len(lists))\n",
    "# in below case the result is showing the number of bytes."
   ]
  },
  {
   "cell_type": "code",
   "execution_count": null,
   "metadata": {},
   "outputs": [],
   "source": [
    "array = np.arange(5000)\n",
    "print(array.size * array.itemsize)\n",
    "# array.size - is the total length of the array\n",
    "# array.itemsize is the size of an element"
   ]
  },
  {
   "cell_type": "code",
   "execution_count": null,
   "metadata": {},
   "outputs": [],
   "source": [
    "#  above we can see the numbers in form of the 140000 and 40000.\n",
    "# Their these values are showing the BYTES. lists are taking the 140000 Bytes and the numpy taking the 40000 bytes "
   ]
  },
  {
   "cell_type": "code",
   "execution_count": null,
   "metadata": {},
   "outputs": [],
   "source": [
    "#                                Convenient\n",
    "# In case of list when I am trying to add two elements of the list, it is concatenatng.\n",
    "list1 = [1,2,3,4]\n",
    "list2  = [5,6,7,8]\n",
    "suming_both = list1 + list2\n",
    "suming_both"
   ]
  },
  {
   "cell_type": "code",
   "execution_count": null,
   "metadata": {},
   "outputs": [],
   "source": [
    "# okey! now let us try doing any other mathematical operation over the lists.\n",
    "spicy = l1 * l2\n",
    "spicy"
   ]
  },
  {
   "cell_type": "code",
   "execution_count": null,
   "metadata": {},
   "outputs": [],
   "source": [
    "#  now let us see doing the same functinoality over an array:\n",
    "array1 = np.array([1,2,3,4])\n",
    "array2 = np.array([5,6,7,8])\n",
    "suming_both = array1 + array2\n",
    "print(suming_both)"
   ]
  },
  {
   "cell_type": "code",
   "execution_count": null,
   "metadata": {},
   "outputs": [],
   "source": [
    "# at same time, let us check for the multiplication as well.\n",
    "array1 * array2 "
   ]
  },
  {
   "cell_type": "code",
   "execution_count": null,
   "metadata": {},
   "outputs": [],
   "source": []
  },
  {
   "cell_type": "markdown",
   "metadata": {},
   "source": [
    "Numpy is also fast. Please check out the link for the justification.\n",
    "\n",
    "[How come numpy is faster than python list](http://stackoverflow.com/questions/993984/why-numpy-instead-of-python-lists)"
   ]
  },
  {
   "cell_type": "code",
   "execution_count": null,
   "metadata": {},
   "outputs": [],
   "source": [
    "# \n",
    "a = np.arange(10000)\n",
    "%timeit a + 1  "
   ]
  },
  {
   "cell_type": "code",
   "execution_count": null,
   "metadata": {},
   "outputs": [],
   "source": [
    "l = range(10000)\n",
    "%timeit [i+1 for i in l] "
   ]
  },
  {
   "cell_type": "markdown",
   "metadata": {},
   "source": [
    "[difference between the timings](https://stackoverflow.com/questions/11813999/what-do-ns-and-us-stand-for-in-timeit-result)"
   ]
  },
  {
   "cell_type": "code",
   "execution_count": null,
   "metadata": {},
   "outputs": [],
   "source": []
  }
 ],
 "metadata": {
  "kernelspec": {
   "display_name": "Python 3",
   "language": "python",
   "name": "python3"
  },
  "language_info": {
   "codemirror_mode": {
    "name": "ipython",
    "version": 3
   },
   "file_extension": ".py",
   "mimetype": "text/x-python",
   "name": "python",
   "nbconvert_exporter": "python",
   "pygments_lexer": "ipython3",
   "version": "3.6.4"
  }
 },
 "nbformat": 4,
 "nbformat_minor": 2
}
